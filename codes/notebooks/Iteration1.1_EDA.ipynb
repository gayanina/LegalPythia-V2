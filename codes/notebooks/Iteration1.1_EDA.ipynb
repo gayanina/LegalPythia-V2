{
 "cells": [
  {
   "cell_type": "markdown",
   "metadata": {},
   "source": [
    "# MSc Project ( 1.1 )\n",
    "\n",
    "- Surya L Ramesh (0206793)"
   ]
  },
  {
   "cell_type": "markdown",
   "metadata": {},
   "source": [
    "##   Iteration 1 - Initial EDA for the SNLI Dataset "
   ]
  },
  {
   "cell_type": "code",
   "execution_count": null,
   "metadata": {},
   "outputs": [],
   "source": [
    "''' Loads, Explores and Cleans the SNLI Datset '''"
   ]
  },
  {
   "cell_type": "code",
   "execution_count": 4,
   "metadata": {},
   "outputs": [],
   "source": [
    "\n",
    "\n",
    "#Load the libraries needed\n",
    "\n",
    "import pandas as pd\n",
    "import spacy\n",
    "import os\n",
    "import numpy as np\n",
    "import fnmatch \n",
    "import matplotlib.pyplot as plt \n",
    "import re\n",
    "\n",
    "from pathlib import Path\n",
    "from termcolor import colored\n",
    "from sklearn.svm import SVC\n",
    "\n",
    "from sklearn.preprocessing import LabelEncoder\n",
    "from keras.utils import np_utils\n",
    "\n",
    "\n"
   ]
  },
  {
   "cell_type": "markdown",
   "metadata": {},
   "source": [
    "## Functions"
   ]
  },
  {
   "cell_type": "code",
   "execution_count": 5,
   "metadata": {},
   "outputs": [],
   "source": [
    "''' function to load data and tidy it - pass the dataframe, kepp only wanted columns, remove'-' rows, from gold_label, \n",
    "remove rows with na , rename columns'''\n",
    "\n",
    "def data_load_tidy(dataframe):\n",
    "    dataframe = dataframe[['sentence1','sentence2','gold_label']]\n",
    "    #print(dataframe.head(3))\n",
    "    dataframe = dataframe[dataframe['gold_label'] != '-' ]\n",
    "    dataframe1= dataframe.dropna(axis=0, inplace=False) # fixed additional nan in test and val with inplace=False \n",
    "    data_tidy = dataframe1.rename(columns= {'sentence1':'premise', 'sentence2':'hypothesis', 'gold_label':'target'}, inplace=False)\n",
    "    #data_tidy = re.sub(\"[^A-Za-z']+\", ' ', str(data_tidy)).lower().replace(\"'\", '')\n",
    "    print(colored('\\n data is tidied ....','green')) \n",
    "    return data_tidy\n",
    "\n",
    "    "
   ]
  },
  {
   "cell_type": "code",
   "execution_count": 6,
   "metadata": {},
   "outputs": [],
   "source": [
    "''' Function to clean the strings'''\n",
    "\n",
    "def clean_string(txt):\n",
    "    return re.sub(\"[^A-Za-z']+\", ' ', str(txt)).lower().replace(\"'\", '') #.replace(\".\",\"\")"
   ]
  },
  {
   "cell_type": "markdown",
   "metadata": {},
   "source": [
    "## Step 1: Load and Tidy the Data\n",
    "\n",
    "\n",
    "Data is already split into train , test and dev(validate)  in the dataset"
   ]
  },
  {
   "cell_type": "code",
   "execution_count": 7,
   "metadata": {},
   "outputs": [
    {
     "name": "stdout",
     "output_type": "stream",
     "text": [
      "\u001b[34m\n",
      " In Filename and path: SNLI_Data_Csv\\snli_1.0_dev.csv\u001b[0m\n",
      "\u001b[32m\n",
      " data is tidied ....\u001b[0m\n",
      "\u001b[34m\n",
      " In Filename and path: SNLI_Data_Csv\\snli_1.0_test.csv\u001b[0m\n",
      "\u001b[32m\n",
      " data is tidied ....\u001b[0m\n",
      "\u001b[34m\n",
      " In Filename and path: SNLI_Data_Csv\\snli_1.0_train.csv\u001b[0m\n",
      "\u001b[32m\n",
      " data is tidied ....\u001b[0m\n"
     ]
    }
   ],
   "source": [
    "#Use Relative path \n",
    "path = 'SNLI_Data_Csv'\n",
    "dirList = os.listdir(path)\n",
    "for dir in dirList:\n",
    "  sub_path = os.path.join(path,dir) \n",
    "  #print(sub_path)\n",
    "  if fnmatch.fnmatch(sub_path,'*_train*'):\n",
    "    print(colored('\\n In Filename and path: %s' % (sub_path),'blue')) \n",
    "    df_train = pd.read_csv(sub_path,nrows =350000)  # changed to 10K for experimentation \n",
    "    train_tidy = data_load_tidy(df_train)\n",
    "    \n",
    "  if fnmatch.fnmatch(sub_path,'*_test*'):  \n",
    "    print(colored('\\n In Filename and path: %s' % (sub_path),'blue')) \n",
    "    df_test = pd.read_csv(sub_path,nrows =100000) # changed to 10K for experimentation \n",
    "    test_tidy =  data_load_tidy(df_test)\n",
    "    \n",
    "  if fnmatch.fnmatch(sub_path,'*_dev*'):  \n",
    "    print(colored('\\n In Filename and path: %s' % (sub_path),'blue')) \n",
    "    df_val = pd.read_csv(sub_path,nrows =100000)  # changed to 10K for experimentation \n",
    "    val_tidy = data_load_tidy(df_val)\n",
    "\n",
    "\n"
   ]
  },
  {
   "cell_type": "markdown",
   "metadata": {},
   "source": [
    "## Step 2: EDA (Exploratory Data Analysis)"
   ]
  },
  {
   "cell_type": "markdown",
   "metadata": {},
   "source": [
    "### Check the Shape of each dataframe"
   ]
  },
  {
   "cell_type": "code",
   "execution_count": 8,
   "metadata": {},
   "outputs": [
    {
     "name": "stdout",
     "output_type": "stream",
     "text": [
      "\n",
      "Train DataFrame Shape : (349548, 3)\n"
     ]
    }
   ],
   "source": [
    "\n",
    "shapetrain = train_tidy.shape\n",
    "print('\\nTrain DataFrame Shape :', shapetrain)"
   ]
  },
  {
   "cell_type": "code",
   "execution_count": 9,
   "metadata": {},
   "outputs": [
    {
     "name": "stdout",
     "output_type": "stream",
     "text": [
      "\n",
      "Test DataFrame Shape : (9824, 3)\n"
     ]
    }
   ],
   "source": [
    "\n",
    "shapetest = test_tidy.shape\n",
    "print('\\nTest DataFrame Shape :', shapetest)"
   ]
  },
  {
   "cell_type": "code",
   "execution_count": 10,
   "metadata": {},
   "outputs": [
    {
     "name": "stdout",
     "output_type": "stream",
     "text": [
      "\n",
      "Validation DataFrame Shape : (9842, 3)\n"
     ]
    }
   ],
   "source": [
    "#df_val\n",
    "shapeval = val_tidy.shape\n",
    "print('\\nValidation DataFrame Shape :', shapeval)"
   ]
  },
  {
   "cell_type": "code",
   "execution_count": 11,
   "metadata": {},
   "outputs": [
    {
     "data": {
      "text/plain": [
       "313338    A baseball player at bat and a catcher get rea...\n",
       "324259    A man in a Las Vegas t-shirt smiles while meat...\n",
       "124985    Two ladies wearing red and gold uniforms are s...\n",
       "154901    Lady in parka walking in the snow with push cart.\n",
       "243374     A volleyball player watches a ball approach him.\n",
       "255852    Amateur chef wearing a white cooking apron is ...\n",
       "320260    The participants in the religious procession a...\n",
       "272719    A little girl sits at a table outdoors and eat...\n",
       "27217                             A group of people eating.\n",
       "333420    A woman in a green shirt pushes past in roller...\n",
       "Name: premise, dtype: object"
      ]
     },
     "execution_count": 11,
     "metadata": {},
     "output_type": "execute_result"
    }
   ],
   "source": [
    "train_tidy.premise.sample(10)"
   ]
  },
  {
   "cell_type": "markdown",
   "metadata": {},
   "source": [
    "text contains \"\" and ',' and ''' '!' and unwanted spaces"
   ]
  },
  {
   "cell_type": "markdown",
   "metadata": {},
   "source": [
    "### Check the first two lines of each dataframe"
   ]
  },
  {
   "cell_type": "code",
   "execution_count": 12,
   "metadata": {},
   "outputs": [
    {
     "data": {
      "text/html": [
       "<div>\n",
       "<style scoped>\n",
       "    .dataframe tbody tr th:only-of-type {\n",
       "        vertical-align: middle;\n",
       "    }\n",
       "\n",
       "    .dataframe tbody tr th {\n",
       "        vertical-align: top;\n",
       "    }\n",
       "\n",
       "    .dataframe thead th {\n",
       "        text-align: right;\n",
       "    }\n",
       "</style>\n",
       "<table border=\"1\" class=\"dataframe\">\n",
       "  <thead>\n",
       "    <tr style=\"text-align: right;\">\n",
       "      <th></th>\n",
       "      <th>premise</th>\n",
       "      <th>hypothesis</th>\n",
       "      <th>target</th>\n",
       "    </tr>\n",
       "  </thead>\n",
       "  <tbody>\n",
       "    <tr>\n",
       "      <td>0</td>\n",
       "      <td>A person on a horse jumps over a broken down a...</td>\n",
       "      <td>A person is training his horse for a competition.</td>\n",
       "      <td>neutral</td>\n",
       "    </tr>\n",
       "    <tr>\n",
       "      <td>1</td>\n",
       "      <td>A person on a horse jumps over a broken down a...</td>\n",
       "      <td>A person is at a diner, ordering an omelette.</td>\n",
       "      <td>contradiction</td>\n",
       "    </tr>\n",
       "  </tbody>\n",
       "</table>\n",
       "</div>"
      ],
      "text/plain": [
       "                                             premise  \\\n",
       "0  A person on a horse jumps over a broken down a...   \n",
       "1  A person on a horse jumps over a broken down a...   \n",
       "\n",
       "                                          hypothesis         target  \n",
       "0  A person is training his horse for a competition.        neutral  \n",
       "1      A person is at a diner, ordering an omelette.  contradiction  "
      ]
     },
     "execution_count": 12,
     "metadata": {},
     "output_type": "execute_result"
    }
   ],
   "source": [
    "train_tidy.head(2)"
   ]
  },
  {
   "cell_type": "code",
   "execution_count": 13,
   "metadata": {},
   "outputs": [
    {
     "data": {
      "text/html": [
       "<div>\n",
       "<style scoped>\n",
       "    .dataframe tbody tr th:only-of-type {\n",
       "        vertical-align: middle;\n",
       "    }\n",
       "\n",
       "    .dataframe tbody tr th {\n",
       "        vertical-align: top;\n",
       "    }\n",
       "\n",
       "    .dataframe thead th {\n",
       "        text-align: right;\n",
       "    }\n",
       "</style>\n",
       "<table border=\"1\" class=\"dataframe\">\n",
       "  <thead>\n",
       "    <tr style=\"text-align: right;\">\n",
       "      <th></th>\n",
       "      <th>premise</th>\n",
       "      <th>hypothesis</th>\n",
       "      <th>target</th>\n",
       "    </tr>\n",
       "  </thead>\n",
       "  <tbody>\n",
       "    <tr>\n",
       "      <td>0</td>\n",
       "      <td>This church choir sings to the masses as they ...</td>\n",
       "      <td>The church has cracks in the ceiling.</td>\n",
       "      <td>neutral</td>\n",
       "    </tr>\n",
       "    <tr>\n",
       "      <td>1</td>\n",
       "      <td>This church choir sings to the masses as they ...</td>\n",
       "      <td>The church is filled with song.</td>\n",
       "      <td>entailment</td>\n",
       "    </tr>\n",
       "  </tbody>\n",
       "</table>\n",
       "</div>"
      ],
      "text/plain": [
       "                                             premise  \\\n",
       "0  This church choir sings to the masses as they ...   \n",
       "1  This church choir sings to the masses as they ...   \n",
       "\n",
       "                              hypothesis      target  \n",
       "0  The church has cracks in the ceiling.     neutral  \n",
       "1        The church is filled with song.  entailment  "
      ]
     },
     "execution_count": 13,
     "metadata": {},
     "output_type": "execute_result"
    }
   ],
   "source": [
    "test_tidy.head(2)"
   ]
  },
  {
   "cell_type": "code",
   "execution_count": 14,
   "metadata": {},
   "outputs": [
    {
     "data": {
      "text/html": [
       "<div>\n",
       "<style scoped>\n",
       "    .dataframe tbody tr th:only-of-type {\n",
       "        vertical-align: middle;\n",
       "    }\n",
       "\n",
       "    .dataframe tbody tr th {\n",
       "        vertical-align: top;\n",
       "    }\n",
       "\n",
       "    .dataframe thead th {\n",
       "        text-align: right;\n",
       "    }\n",
       "</style>\n",
       "<table border=\"1\" class=\"dataframe\">\n",
       "  <thead>\n",
       "    <tr style=\"text-align: right;\">\n",
       "      <th></th>\n",
       "      <th>premise</th>\n",
       "      <th>hypothesis</th>\n",
       "      <th>target</th>\n",
       "    </tr>\n",
       "  </thead>\n",
       "  <tbody>\n",
       "    <tr>\n",
       "      <td>0</td>\n",
       "      <td>Two women are embracing while holding to go pa...</td>\n",
       "      <td>The sisters are hugging goodbye while holding ...</td>\n",
       "      <td>neutral</td>\n",
       "    </tr>\n",
       "    <tr>\n",
       "      <td>1</td>\n",
       "      <td>Two women are embracing while holding to go pa...</td>\n",
       "      <td>Two woman are holding packages.</td>\n",
       "      <td>entailment</td>\n",
       "    </tr>\n",
       "    <tr>\n",
       "      <td>2</td>\n",
       "      <td>Two women are embracing while holding to go pa...</td>\n",
       "      <td>The men are fighting outside a deli.</td>\n",
       "      <td>contradiction</td>\n",
       "    </tr>\n",
       "    <tr>\n",
       "      <td>3</td>\n",
       "      <td>Two young children in blue jerseys, one with t...</td>\n",
       "      <td>Two kids in numbered jerseys wash their hands.</td>\n",
       "      <td>entailment</td>\n",
       "    </tr>\n",
       "    <tr>\n",
       "      <td>4</td>\n",
       "      <td>Two young children in blue jerseys, one with t...</td>\n",
       "      <td>Two kids at a ballgame wash their hands.</td>\n",
       "      <td>neutral</td>\n",
       "    </tr>\n",
       "  </tbody>\n",
       "</table>\n",
       "</div>"
      ],
      "text/plain": [
       "                                             premise  \\\n",
       "0  Two women are embracing while holding to go pa...   \n",
       "1  Two women are embracing while holding to go pa...   \n",
       "2  Two women are embracing while holding to go pa...   \n",
       "3  Two young children in blue jerseys, one with t...   \n",
       "4  Two young children in blue jerseys, one with t...   \n",
       "\n",
       "                                          hypothesis         target  \n",
       "0  The sisters are hugging goodbye while holding ...        neutral  \n",
       "1                    Two woman are holding packages.     entailment  \n",
       "2               The men are fighting outside a deli.  contradiction  \n",
       "3     Two kids in numbered jerseys wash their hands.     entailment  \n",
       "4           Two kids at a ballgame wash their hands.        neutral  "
      ]
     },
     "execution_count": 14,
     "metadata": {},
     "output_type": "execute_result"
    }
   ],
   "source": [
    "val_tidy.head()"
   ]
  },
  {
   "cell_type": "markdown",
   "metadata": {},
   "source": [
    "**In train**: No of rows dropped to 549367 from 550152 rows after removing unassigned gold label,number of rows dropped to 549361 now after removing na,6 rows removed\n",
    "\n",
    "- total rows removed = 791\n",
    "\n",
    "**In test and val**:10000 down to 9824 \n",
    "\n",
    "- total rows removed = 176\n"
   ]
  },
  {
   "cell_type": "code",
   "execution_count": 15,
   "metadata": {},
   "outputs": [
    {
     "data": {
      "text/plain": [
       "premise       object\n",
       "hypothesis    object\n",
       "target        object\n",
       "dtype: object"
      ]
     },
     "execution_count": 15,
     "metadata": {},
     "output_type": "execute_result"
    }
   ],
   "source": [
    "# check datatypes of the dataframes\n",
    "train_tidy.dtypes\n"
   ]
  },
  {
   "cell_type": "code",
   "execution_count": 16,
   "metadata": {},
   "outputs": [
    {
     "data": {
      "text/plain": [
       "premise       object\n",
       "hypothesis    object\n",
       "target        object\n",
       "dtype: object"
      ]
     },
     "execution_count": 16,
     "metadata": {},
     "output_type": "execute_result"
    }
   ],
   "source": [
    "test_tidy.dtypes"
   ]
  },
  {
   "cell_type": "code",
   "execution_count": 17,
   "metadata": {},
   "outputs": [
    {
     "data": {
      "text/plain": [
       "premise       object\n",
       "hypothesis    object\n",
       "target        object\n",
       "dtype: object"
      ]
     },
     "execution_count": 17,
     "metadata": {},
     "output_type": "execute_result"
    }
   ],
   "source": [
    "val_tidy.dtypes"
   ]
  },
  {
   "cell_type": "code",
   "execution_count": 18,
   "metadata": {},
   "outputs": [],
   "source": [
    "# convert target to type category \n",
    "# set random seed , The fraction of rows and columns to be selected can be specified in the parameter frac. frac=1 means 100%.\n",
    "#axis = 0 , rows are sampled.\n",
    "\n",
    "train_tidy['target'] = train_tidy['target'].astype('category')\n",
    "train_tidy = train_tidy.sample(axis=0, frac=1,random_state=111).reset_index(drop=True)\n",
    "test_tidy['target'] = test_tidy['target'].astype('category')\n",
    "test_tidy = test_tidy.sample(axis=0, frac=1,random_state=111).reset_index(drop=True)\n",
    "val_tidy['target'] = val_tidy['target'].astype('category')\n",
    "val_tidy = val_tidy.sample(axis=0, frac=1,random_state=111).reset_index(drop=True)\n"
   ]
  },
  {
   "cell_type": "markdown",
   "metadata": {},
   "source": [
    "### Check if Data is shuffled"
   ]
  },
  {
   "cell_type": "code",
   "execution_count": 19,
   "metadata": {},
   "outputs": [
    {
     "data": {
      "text/html": [
       "<div>\n",
       "<style scoped>\n",
       "    .dataframe tbody tr th:only-of-type {\n",
       "        vertical-align: middle;\n",
       "    }\n",
       "\n",
       "    .dataframe tbody tr th {\n",
       "        vertical-align: top;\n",
       "    }\n",
       "\n",
       "    .dataframe thead th {\n",
       "        text-align: right;\n",
       "    }\n",
       "</style>\n",
       "<table border=\"1\" class=\"dataframe\">\n",
       "  <thead>\n",
       "    <tr style=\"text-align: right;\">\n",
       "      <th></th>\n",
       "      <th>premise</th>\n",
       "      <th>hypothesis</th>\n",
       "      <th>target</th>\n",
       "    </tr>\n",
       "  </thead>\n",
       "  <tbody>\n",
       "    <tr>\n",
       "      <td>0</td>\n",
       "      <td>A man on a motorcycle with a cigarette</td>\n",
       "      <td>The man is smoking while driving.</td>\n",
       "      <td>neutral</td>\n",
       "    </tr>\n",
       "    <tr>\n",
       "      <td>1</td>\n",
       "      <td>Man in green jacket with a bouquet of flowers,...</td>\n",
       "      <td>a man is riding a skateboarx</td>\n",
       "      <td>contradiction</td>\n",
       "    </tr>\n",
       "    <tr>\n",
       "      <td>2</td>\n",
       "      <td>Two children, an older boy and a younger girl,...</td>\n",
       "      <td>They run down to the beach in their swimming t...</td>\n",
       "      <td>contradiction</td>\n",
       "    </tr>\n",
       "    <tr>\n",
       "      <td>3</td>\n",
       "      <td>A man is in a tree using an axe to shop at a b...</td>\n",
       "      <td>dog chases two cars</td>\n",
       "      <td>contradiction</td>\n",
       "    </tr>\n",
       "    <tr>\n",
       "      <td>4</td>\n",
       "      <td>A male is working in a bakery shop is taking o...</td>\n",
       "      <td>A man is working in a butcher shop.</td>\n",
       "      <td>contradiction</td>\n",
       "    </tr>\n",
       "    <tr>\n",
       "      <td>5</td>\n",
       "      <td>A girl with blond-hair is sitting on the floor...</td>\n",
       "      <td>A girl sits on the floor holding a microphone.</td>\n",
       "      <td>contradiction</td>\n",
       "    </tr>\n",
       "    <tr>\n",
       "      <td>6</td>\n",
       "      <td>Two men lean on a rail at a construction site.</td>\n",
       "      <td>Two men are working on the rail</td>\n",
       "      <td>entailment</td>\n",
       "    </tr>\n",
       "    <tr>\n",
       "      <td>7</td>\n",
       "      <td>A blond-haired guitar singer performing in a m...</td>\n",
       "      <td>a man performs in a store</td>\n",
       "      <td>entailment</td>\n",
       "    </tr>\n",
       "    <tr>\n",
       "      <td>8</td>\n",
       "      <td>A group of performers are singing together.</td>\n",
       "      <td>There are people singing</td>\n",
       "      <td>entailment</td>\n",
       "    </tr>\n",
       "    <tr>\n",
       "      <td>9</td>\n",
       "      <td>Two people, one in gray and one in white, sitt...</td>\n",
       "      <td>The sun is setting.</td>\n",
       "      <td>neutral</td>\n",
       "    </tr>\n",
       "  </tbody>\n",
       "</table>\n",
       "</div>"
      ],
      "text/plain": [
       "                                             premise  \\\n",
       "0             A man on a motorcycle with a cigarette   \n",
       "1  Man in green jacket with a bouquet of flowers,...   \n",
       "2  Two children, an older boy and a younger girl,...   \n",
       "3  A man is in a tree using an axe to shop at a b...   \n",
       "4  A male is working in a bakery shop is taking o...   \n",
       "5  A girl with blond-hair is sitting on the floor...   \n",
       "6     Two men lean on a rail at a construction site.   \n",
       "7  A blond-haired guitar singer performing in a m...   \n",
       "8        A group of performers are singing together.   \n",
       "9  Two people, one in gray and one in white, sitt...   \n",
       "\n",
       "                                          hypothesis         target  \n",
       "0                  The man is smoking while driving.        neutral  \n",
       "1                       a man is riding a skateboarx  contradiction  \n",
       "2  They run down to the beach in their swimming t...  contradiction  \n",
       "3                                dog chases two cars  contradiction  \n",
       "4                A man is working in a butcher shop.  contradiction  \n",
       "5     A girl sits on the floor holding a microphone.  contradiction  \n",
       "6                    Two men are working on the rail     entailment  \n",
       "7                          a man performs in a store     entailment  \n",
       "8                           There are people singing     entailment  \n",
       "9                                The sun is setting.        neutral  "
      ]
     },
     "execution_count": 19,
     "metadata": {},
     "output_type": "execute_result"
    }
   ],
   "source": [
    "train_tidy.dtypes\n",
    "train_tidy.head(10)"
   ]
  },
  {
   "cell_type": "code",
   "execution_count": 20,
   "metadata": {},
   "outputs": [
    {
     "data": {
      "text/html": [
       "<div>\n",
       "<style scoped>\n",
       "    .dataframe tbody tr th:only-of-type {\n",
       "        vertical-align: middle;\n",
       "    }\n",
       "\n",
       "    .dataframe tbody tr th {\n",
       "        vertical-align: top;\n",
       "    }\n",
       "\n",
       "    .dataframe thead th {\n",
       "        text-align: right;\n",
       "    }\n",
       "</style>\n",
       "<table border=\"1\" class=\"dataframe\">\n",
       "  <thead>\n",
       "    <tr style=\"text-align: right;\">\n",
       "      <th></th>\n",
       "      <th>premise</th>\n",
       "      <th>hypothesis</th>\n",
       "      <th>target</th>\n",
       "    </tr>\n",
       "  </thead>\n",
       "  <tbody>\n",
       "    <tr>\n",
       "      <td>0</td>\n",
       "      <td>An Indian woman stands in an outdoor marketplace.</td>\n",
       "      <td>An American shops at the supermarket.</td>\n",
       "      <td>contradiction</td>\n",
       "    </tr>\n",
       "    <tr>\n",
       "      <td>1</td>\n",
       "      <td>Young people are standing around a drum at a p...</td>\n",
       "      <td>A drum is in a museum.</td>\n",
       "      <td>contradiction</td>\n",
       "    </tr>\n",
       "    <tr>\n",
       "      <td>2</td>\n",
       "      <td>Two men in black jackets behind a white handrail.</td>\n",
       "      <td>The two me are wearing black jackets</td>\n",
       "      <td>entailment</td>\n",
       "    </tr>\n",
       "    <tr>\n",
       "      <td>3</td>\n",
       "      <td>A person in a large pink triangle-shaped costu...</td>\n",
       "      <td>The person is marching in a parade.</td>\n",
       "      <td>neutral</td>\n",
       "    </tr>\n",
       "    <tr>\n",
       "      <td>4</td>\n",
       "      <td>A teen is standing in a field and is in the up...</td>\n",
       "      <td>The teenager has just made a hole-in-one while...</td>\n",
       "      <td>neutral</td>\n",
       "    </tr>\n",
       "    <tr>\n",
       "      <td>5</td>\n",
       "      <td>A woman in a gray sweater talking to another w...</td>\n",
       "      <td>A baby yawns in his crib.</td>\n",
       "      <td>contradiction</td>\n",
       "    </tr>\n",
       "    <tr>\n",
       "      <td>6</td>\n",
       "      <td>A man wearing a checkered shirt, cream suit an...</td>\n",
       "      <td>the guy is on the bench waiting for his wife</td>\n",
       "      <td>neutral</td>\n",
       "    </tr>\n",
       "    <tr>\n",
       "      <td>7</td>\n",
       "      <td>A man with a blue, collared shirt sits in fron...</td>\n",
       "      <td>a man sits in front of another man</td>\n",
       "      <td>entailment</td>\n",
       "    </tr>\n",
       "    <tr>\n",
       "      <td>8</td>\n",
       "      <td>It is a march of people of different backgroun...</td>\n",
       "      <td>A man holds a flag.</td>\n",
       "      <td>entailment</td>\n",
       "    </tr>\n",
       "    <tr>\n",
       "      <td>9</td>\n",
       "      <td>One person kneels in front of a plastic bucket...</td>\n",
       "      <td>One person kneels in front of a plastic bucket...</td>\n",
       "      <td>neutral</td>\n",
       "    </tr>\n",
       "  </tbody>\n",
       "</table>\n",
       "</div>"
      ],
      "text/plain": [
       "                                             premise  \\\n",
       "0  An Indian woman stands in an outdoor marketplace.   \n",
       "1  Young people are standing around a drum at a p...   \n",
       "2  Two men in black jackets behind a white handrail.   \n",
       "3  A person in a large pink triangle-shaped costu...   \n",
       "4  A teen is standing in a field and is in the up...   \n",
       "5  A woman in a gray sweater talking to another w...   \n",
       "6  A man wearing a checkered shirt, cream suit an...   \n",
       "7  A man with a blue, collared shirt sits in fron...   \n",
       "8  It is a march of people of different backgroun...   \n",
       "9  One person kneels in front of a plastic bucket...   \n",
       "\n",
       "                                          hypothesis         target  \n",
       "0              An American shops at the supermarket.  contradiction  \n",
       "1                             A drum is in a museum.  contradiction  \n",
       "2               The two me are wearing black jackets     entailment  \n",
       "3                The person is marching in a parade.        neutral  \n",
       "4  The teenager has just made a hole-in-one while...        neutral  \n",
       "5                          A baby yawns in his crib.  contradiction  \n",
       "6       the guy is on the bench waiting for his wife        neutral  \n",
       "7                 a man sits in front of another man     entailment  \n",
       "8                                A man holds a flag.     entailment  \n",
       "9  One person kneels in front of a plastic bucket...        neutral  "
      ]
     },
     "execution_count": 20,
     "metadata": {},
     "output_type": "execute_result"
    }
   ],
   "source": [
    "test_tidy.dtypes\n",
    "test_tidy.head(10)"
   ]
  },
  {
   "cell_type": "code",
   "execution_count": 21,
   "metadata": {},
   "outputs": [
    {
     "data": {
      "text/html": [
       "<div>\n",
       "<style scoped>\n",
       "    .dataframe tbody tr th:only-of-type {\n",
       "        vertical-align: middle;\n",
       "    }\n",
       "\n",
       "    .dataframe tbody tr th {\n",
       "        vertical-align: top;\n",
       "    }\n",
       "\n",
       "    .dataframe thead th {\n",
       "        text-align: right;\n",
       "    }\n",
       "</style>\n",
       "<table border=\"1\" class=\"dataframe\">\n",
       "  <thead>\n",
       "    <tr style=\"text-align: right;\">\n",
       "      <th></th>\n",
       "      <th>premise</th>\n",
       "      <th>hypothesis</th>\n",
       "      <th>target</th>\n",
       "    </tr>\n",
       "  </thead>\n",
       "  <tbody>\n",
       "    <tr>\n",
       "      <td>0</td>\n",
       "      <td>Two men in animal print pajama bottoms sleep o...</td>\n",
       "      <td>Men are sleeping.</td>\n",
       "      <td>entailment</td>\n",
       "    </tr>\n",
       "    <tr>\n",
       "      <td>1</td>\n",
       "      <td>A man is putting on a yellow necktie while ano...</td>\n",
       "      <td>a man puts on a tie</td>\n",
       "      <td>entailment</td>\n",
       "    </tr>\n",
       "    <tr>\n",
       "      <td>2</td>\n",
       "      <td>Female sitting in a chair in front of a hazy f...</td>\n",
       "      <td>A woman is waiting for someone.</td>\n",
       "      <td>neutral</td>\n",
       "    </tr>\n",
       "    <tr>\n",
       "      <td>3</td>\n",
       "      <td>A blond guitarist, dressed all in black, perfo...</td>\n",
       "      <td>A person is playing the guitar.</td>\n",
       "      <td>entailment</td>\n",
       "    </tr>\n",
       "    <tr>\n",
       "      <td>4</td>\n",
       "      <td>A young boy reaches for and touches the propel...</td>\n",
       "      <td>A young boy and his friend admire the vintage ...</td>\n",
       "      <td>neutral</td>\n",
       "    </tr>\n",
       "    <tr>\n",
       "      <td>5</td>\n",
       "      <td>A man wandering in the desert as the clouds ro...</td>\n",
       "      <td>A man fights dead mummy's who magically came a...</td>\n",
       "      <td>contradiction</td>\n",
       "    </tr>\n",
       "    <tr>\n",
       "      <td>6</td>\n",
       "      <td>A man in a white shirt riding a bike down the ...</td>\n",
       "      <td>A man is in a white shirt.</td>\n",
       "      <td>entailment</td>\n",
       "    </tr>\n",
       "    <tr>\n",
       "      <td>7</td>\n",
       "      <td>A dirt bike rider riding through the woods ove...</td>\n",
       "      <td>The dirt bike rider is running from someone.</td>\n",
       "      <td>neutral</td>\n",
       "    </tr>\n",
       "    <tr>\n",
       "      <td>8</td>\n",
       "      <td>Man walking barefoot on the beach on what seem...</td>\n",
       "      <td>The man is wearing high heels.</td>\n",
       "      <td>contradiction</td>\n",
       "    </tr>\n",
       "    <tr>\n",
       "      <td>9</td>\n",
       "      <td>A man with glasses and a Hawaiian shirt is sta...</td>\n",
       "      <td>A butterfly flys freely.</td>\n",
       "      <td>contradiction</td>\n",
       "    </tr>\n",
       "  </tbody>\n",
       "</table>\n",
       "</div>"
      ],
      "text/plain": [
       "                                             premise  \\\n",
       "0  Two men in animal print pajama bottoms sleep o...   \n",
       "1  A man is putting on a yellow necktie while ano...   \n",
       "2  Female sitting in a chair in front of a hazy f...   \n",
       "3  A blond guitarist, dressed all in black, perfo...   \n",
       "4  A young boy reaches for and touches the propel...   \n",
       "5  A man wandering in the desert as the clouds ro...   \n",
       "6  A man in a white shirt riding a bike down the ...   \n",
       "7  A dirt bike rider riding through the woods ove...   \n",
       "8  Man walking barefoot on the beach on what seem...   \n",
       "9  A man with glasses and a Hawaiian shirt is sta...   \n",
       "\n",
       "                                          hypothesis         target  \n",
       "0                                  Men are sleeping.     entailment  \n",
       "1                                a man puts on a tie     entailment  \n",
       "2                    A woman is waiting for someone.        neutral  \n",
       "3                    A person is playing the guitar.     entailment  \n",
       "4  A young boy and his friend admire the vintage ...        neutral  \n",
       "5  A man fights dead mummy's who magically came a...  contradiction  \n",
       "6                         A man is in a white shirt.     entailment  \n",
       "7       The dirt bike rider is running from someone.        neutral  \n",
       "8                     The man is wearing high heels.  contradiction  \n",
       "9                           A butterfly flys freely.  contradiction  "
      ]
     },
     "execution_count": 21,
     "metadata": {},
     "output_type": "execute_result"
    }
   ],
   "source": [
    "val_tidy.dtypes\n",
    "val_tidy.head(10)"
   ]
  },
  {
   "cell_type": "markdown",
   "metadata": {},
   "source": [
    "### Check the categories "
   ]
  },
  {
   "cell_type": "code",
   "execution_count": 22,
   "metadata": {},
   "outputs": [
    {
     "name": "stdout",
     "output_type": "stream",
     "text": [
      "\n",
      "Categories to predict in Train Set :  [neutral, contradiction, entailment]\n",
      "Categories (3, object): [neutral, contradiction, entailment]\n",
      "\n",
      "Categories to predict:in Test Set  [contradiction, entailment, neutral]\n",
      "Categories (3, object): [contradiction, entailment, neutral]\n",
      "\n",
      "Categories to predict:in Validation Set  [entailment, neutral, contradiction]\n",
      "Categories (3, object): [entailment, neutral, contradiction]\n"
     ]
    }
   ],
   "source": [
    "print('\\nCategories to predict in Train Set : ',train_tidy['target'].unique())\n",
    "print('\\nCategories to predict:in Test Set ',test_tidy['target'].unique())\n",
    "print('\\nCategories to predict:in Validation Set ',val_tidy['target'].unique())\n"
   ]
  },
  {
   "cell_type": "markdown",
   "metadata": {},
   "source": [
    "### Check for an nan "
   ]
  },
  {
   "cell_type": "code",
   "execution_count": 23,
   "metadata": {},
   "outputs": [
    {
     "data": {
      "text/plain": [
       "0"
      ]
     },
     "execution_count": 23,
     "metadata": {},
     "output_type": "execute_result"
    }
   ],
   "source": [
    "train_tidy.isnull().sum().sum()\n",
    "test_tidy.isnull().sum().sum()\n",
    "val_tidy.isnull().sum().sum()\n",
    "#test_tidy['target'].isnull().sum()"
   ]
  },
  {
   "cell_type": "markdown",
   "metadata": {},
   "source": [
    "### for train data - check for class count in each target label"
   ]
  },
  {
   "cell_type": "code",
   "execution_count": 24,
   "metadata": {},
   "outputs": [
    {
     "data": {
      "text/plain": [
       "entailment       116722\n",
       "contradiction    116564\n",
       "neutral          116262\n",
       "Name: target, dtype: int64"
      ]
     },
     "execution_count": 24,
     "metadata": {},
     "output_type": "execute_result"
    }
   ],
   "source": [
    "train_tidy['target'].value_counts()\n"
   ]
  },
  {
   "cell_type": "code",
   "execution_count": 25,
   "metadata": {},
   "outputs": [
    {
     "data": {
      "text/plain": [
       "<matplotlib.axes._subplots.AxesSubplot at 0x23ca3586f48>"
      ]
     },
     "execution_count": 25,
     "metadata": {},
     "output_type": "execute_result"
    },
    {
     "data": {
      "image/png": "[encoded data removed]",
      "text/plain": [
       "<Figure size 1080x360 with 1 Axes>"
      ]
     },
     "metadata": {
      "needs_background": "light"
     },
     "output_type": "display_data"
    }
   ],
   "source": [
    "# view the count in each class\n",
    "\n",
    "plt.figure(figsize =((15,5)))\n",
    "\n",
    "train_tidy['target'].value_counts().sort_index().plot.barh(title = \"Count of each category in the Train Set \",color=['olive','rosybrown', 'darkturquoise'])\n"
   ]
  },
  {
   "cell_type": "markdown",
   "metadata": {},
   "source": [
    "It can be seen that the data is almost balanced in the training set "
   ]
  },
  {
   "cell_type": "code",
   "execution_count": 26,
   "metadata": {},
   "outputs": [
    {
     "data": {
      "text/plain": [
       "<matplotlib.axes._subplots.AxesSubplot at 0x23ca37e2f08>"
      ]
     },
     "execution_count": 26,
     "metadata": {},
     "output_type": "execute_result"
    },
    {
     "data": {
      "image/png": "[encoded data removed]",
      "text/plain": [
       "<Figure size 1080x360 with 1 Axes>"
      ]
     },
     "metadata": {
      "needs_background": "light"
     },
     "output_type": "display_data"
    }
   ],
   "source": [
    "plt.figure(figsize =((15,5)))\n",
    "test_tidy['target'].value_counts().sort_index().plot.barh(title = \"Count of each category in the Test Set\",color=['olive','rosybrown', 'darkturquoise'])"
   ]
  },
  {
   "cell_type": "markdown",
   "metadata": {},
   "source": [
    "It can be seen that the data is almost balanced in the test set, with stlighly more examples in the entailment class"
   ]
  },
  {
   "cell_type": "code",
   "execution_count": 27,
   "metadata": {},
   "outputs": [
    {
     "data": {
      "text/plain": [
       "<matplotlib.axes._subplots.AxesSubplot at 0x23ca3e72bc8>"
      ]
     },
     "execution_count": 27,
     "metadata": {},
     "output_type": "execute_result"
    },
    {
     "data": {
      "image/png": "[encoded data removed]",
      "text/plain": [
       "<Figure size 1080x360 with 1 Axes>"
      ]
     },
     "metadata": {
      "needs_background": "light"
     },
     "output_type": "display_data"
    }
   ],
   "source": [
    "plt.figure(figsize =((15,5)))\n",
    "val_tidy['target'].value_counts().sort_index().plot.barh(title = \"Count of each category in the Validation Set\",color=['olive','rosybrown', 'darkturquoise'])"
   ]
  },
  {
   "cell_type": "code",
   "execution_count": 28,
   "metadata": {},
   "outputs": [
    {
     "data": {
      "text/plain": [
       "count           9842\n",
       "unique             3\n",
       "top       entailment\n",
       "freq            3329\n",
       "Name: target, dtype: object"
      ]
     },
     "execution_count": 28,
     "metadata": {},
     "output_type": "execute_result"
    }
   ],
   "source": [
    "val_tidy['target'].describe()"
   ]
  },
  {
   "cell_type": "markdown",
   "metadata": {},
   "source": [
    "It can be seen that the data is almost balanced in the validation  set, with stlighly more examples in the entailment class"
   ]
  },
  {
   "cell_type": "markdown",
   "metadata": {},
   "source": [
    "No balancing techniques needed "
   ]
  },
  {
   "cell_type": "markdown",
   "metadata": {},
   "source": [
    "## Clean the strings (premise, hypothesis)\n"
   ]
  },
  {
   "cell_type": "code",
   "execution_count": 29,
   "metadata": {},
   "outputs": [],
   "source": [
    "train_tidy['premise_clean'] = train_tidy.premise.apply(clean_string)\n",
    "train_tidy['hypothesis_clean'] = train_tidy.hypothesis.apply(clean_string)\n",
    "test_tidy['premise_clean'] = test_tidy.premise.apply(clean_string)\n",
    "test_tidy['hypothesis_clean'] = test_tidy.hypothesis.apply(clean_string)\n"
   ]
  },
  {
   "cell_type": "code",
   "execution_count": 30,
   "metadata": {},
   "outputs": [],
   "source": [
    "val_tidy['premise_clean'] = val_tidy.premise.apply(clean_string)\n",
    "val_tidy['hypothesis_clean'] = val_tidy.hypothesis.apply(clean_string)\n"
   ]
  },
  {
   "cell_type": "code",
   "execution_count": 31,
   "metadata": {},
   "outputs": [
    {
     "data": {
      "text/html": [
       "<div>\n",
       "<style scoped>\n",
       "    .dataframe tbody tr th:only-of-type {\n",
       "        vertical-align: middle;\n",
       "    }\n",
       "\n",
       "    .dataframe tbody tr th {\n",
       "        vertical-align: top;\n",
       "    }\n",
       "\n",
       "    .dataframe thead th {\n",
       "        text-align: right;\n",
       "    }\n",
       "</style>\n",
       "<table border=\"1\" class=\"dataframe\">\n",
       "  <thead>\n",
       "    <tr style=\"text-align: right;\">\n",
       "      <th></th>\n",
       "      <th>premise</th>\n",
       "      <th>hypothesis</th>\n",
       "      <th>target</th>\n",
       "      <th>premise_clean</th>\n",
       "      <th>hypothesis_clean</th>\n",
       "    </tr>\n",
       "  </thead>\n",
       "  <tbody>\n",
       "    <tr>\n",
       "      <td>0</td>\n",
       "      <td>A man on a motorcycle with a cigarette</td>\n",
       "      <td>The man is smoking while driving.</td>\n",
       "      <td>neutral</td>\n",
       "      <td>a man on a motorcycle with a cigarette</td>\n",
       "      <td>the man is smoking while driving</td>\n",
       "    </tr>\n",
       "    <tr>\n",
       "      <td>1</td>\n",
       "      <td>Man in green jacket with a bouquet of flowers,...</td>\n",
       "      <td>a man is riding a skateboarx</td>\n",
       "      <td>contradiction</td>\n",
       "      <td>man in green jacket with a bouquet of flowers ...</td>\n",
       "      <td>a man is riding a skateboarx</td>\n",
       "    </tr>\n",
       "    <tr>\n",
       "      <td>2</td>\n",
       "      <td>Two children, an older boy and a younger girl,...</td>\n",
       "      <td>They run down to the beach in their swimming t...</td>\n",
       "      <td>contradiction</td>\n",
       "      <td>two children an older boy and a younger girl a...</td>\n",
       "      <td>they run down to the beach in their swimming t...</td>\n",
       "    </tr>\n",
       "    <tr>\n",
       "      <td>3</td>\n",
       "      <td>A man is in a tree using an axe to shop at a b...</td>\n",
       "      <td>dog chases two cars</td>\n",
       "      <td>contradiction</td>\n",
       "      <td>a man is in a tree using an axe to shop at a b...</td>\n",
       "      <td>dog chases two cars</td>\n",
       "    </tr>\n",
       "    <tr>\n",
       "      <td>4</td>\n",
       "      <td>A male is working in a bakery shop is taking o...</td>\n",
       "      <td>A man is working in a butcher shop.</td>\n",
       "      <td>contradiction</td>\n",
       "      <td>a male is working in a bakery shop is taking o...</td>\n",
       "      <td>a man is working in a butcher shop</td>\n",
       "    </tr>\n",
       "  </tbody>\n",
       "</table>\n",
       "</div>"
      ],
      "text/plain": [
       "                                             premise  \\\n",
       "0             A man on a motorcycle with a cigarette   \n",
       "1  Man in green jacket with a bouquet of flowers,...   \n",
       "2  Two children, an older boy and a younger girl,...   \n",
       "3  A man is in a tree using an axe to shop at a b...   \n",
       "4  A male is working in a bakery shop is taking o...   \n",
       "\n",
       "                                          hypothesis         target  \\\n",
       "0                  The man is smoking while driving.        neutral   \n",
       "1                       a man is riding a skateboarx  contradiction   \n",
       "2  They run down to the beach in their swimming t...  contradiction   \n",
       "3                                dog chases two cars  contradiction   \n",
       "4                A man is working in a butcher shop.  contradiction   \n",
       "\n",
       "                                       premise_clean  \\\n",
       "0             a man on a motorcycle with a cigarette   \n",
       "1  man in green jacket with a bouquet of flowers ...   \n",
       "2  two children an older boy and a younger girl a...   \n",
       "3  a man is in a tree using an axe to shop at a b...   \n",
       "4  a male is working in a bakery shop is taking o...   \n",
       "\n",
       "                                    hypothesis_clean  \n",
       "0                  the man is smoking while driving   \n",
       "1                       a man is riding a skateboarx  \n",
       "2  they run down to the beach in their swimming t...  \n",
       "3                                dog chases two cars  \n",
       "4                a man is working in a butcher shop   "
      ]
     },
     "execution_count": 31,
     "metadata": {},
     "output_type": "execute_result"
    }
   ],
   "source": [
    "train_tidy.head()"
   ]
  },
  {
   "cell_type": "code",
   "execution_count": 32,
   "metadata": {},
   "outputs": [
    {
     "data": {
      "text/html": [
       "<div>\n",
       "<style scoped>\n",
       "    .dataframe tbody tr th:only-of-type {\n",
       "        vertical-align: middle;\n",
       "    }\n",
       "\n",
       "    .dataframe tbody tr th {\n",
       "        vertical-align: top;\n",
       "    }\n",
       "\n",
       "    .dataframe thead th {\n",
       "        text-align: right;\n",
       "    }\n",
       "</style>\n",
       "<table border=\"1\" class=\"dataframe\">\n",
       "  <thead>\n",
       "    <tr style=\"text-align: right;\">\n",
       "      <th></th>\n",
       "      <th>premise</th>\n",
       "      <th>hypothesis</th>\n",
       "      <th>target</th>\n",
       "      <th>premise_clean</th>\n",
       "      <th>hypothesis_clean</th>\n",
       "    </tr>\n",
       "  </thead>\n",
       "  <tbody>\n",
       "    <tr>\n",
       "      <td>0</td>\n",
       "      <td>An Indian woman stands in an outdoor marketplace.</td>\n",
       "      <td>An American shops at the supermarket.</td>\n",
       "      <td>contradiction</td>\n",
       "      <td>an indian woman stands in an outdoor marketplace</td>\n",
       "      <td>an american shops at the supermarket</td>\n",
       "    </tr>\n",
       "    <tr>\n",
       "      <td>1</td>\n",
       "      <td>Young people are standing around a drum at a p...</td>\n",
       "      <td>A drum is in a museum.</td>\n",
       "      <td>contradiction</td>\n",
       "      <td>young people are standing around a drum at a p...</td>\n",
       "      <td>a drum is in a museum</td>\n",
       "    </tr>\n",
       "    <tr>\n",
       "      <td>2</td>\n",
       "      <td>Two men in black jackets behind a white handrail.</td>\n",
       "      <td>The two me are wearing black jackets</td>\n",
       "      <td>entailment</td>\n",
       "      <td>two men in black jackets behind a white handrail</td>\n",
       "      <td>the two me are wearing black jackets</td>\n",
       "    </tr>\n",
       "    <tr>\n",
       "      <td>3</td>\n",
       "      <td>A person in a large pink triangle-shaped costu...</td>\n",
       "      <td>The person is marching in a parade.</td>\n",
       "      <td>neutral</td>\n",
       "      <td>a person in a large pink triangle shaped costu...</td>\n",
       "      <td>the person is marching in a parade</td>\n",
       "    </tr>\n",
       "    <tr>\n",
       "      <td>4</td>\n",
       "      <td>A teen is standing in a field and is in the up...</td>\n",
       "      <td>The teenager has just made a hole-in-one while...</td>\n",
       "      <td>neutral</td>\n",
       "      <td>a teen is standing in a field and is in the up...</td>\n",
       "      <td>the teenager has just made a hole in one while...</td>\n",
       "    </tr>\n",
       "  </tbody>\n",
       "</table>\n",
       "</div>"
      ],
      "text/plain": [
       "                                             premise  \\\n",
       "0  An Indian woman stands in an outdoor marketplace.   \n",
       "1  Young people are standing around a drum at a p...   \n",
       "2  Two men in black jackets behind a white handrail.   \n",
       "3  A person in a large pink triangle-shaped costu...   \n",
       "4  A teen is standing in a field and is in the up...   \n",
       "\n",
       "                                          hypothesis         target  \\\n",
       "0              An American shops at the supermarket.  contradiction   \n",
       "1                             A drum is in a museum.  contradiction   \n",
       "2               The two me are wearing black jackets     entailment   \n",
       "3                The person is marching in a parade.        neutral   \n",
       "4  The teenager has just made a hole-in-one while...        neutral   \n",
       "\n",
       "                                       premise_clean  \\\n",
       "0  an indian woman stands in an outdoor marketplace    \n",
       "1  young people are standing around a drum at a p...   \n",
       "2  two men in black jackets behind a white handrail    \n",
       "3  a person in a large pink triangle shaped costu...   \n",
       "4  a teen is standing in a field and is in the up...   \n",
       "\n",
       "                                    hypothesis_clean  \n",
       "0              an american shops at the supermarket   \n",
       "1                             a drum is in a museum   \n",
       "2               the two me are wearing black jackets  \n",
       "3                the person is marching in a parade   \n",
       "4  the teenager has just made a hole in one while...  "
      ]
     },
     "execution_count": 32,
     "metadata": {},
     "output_type": "execute_result"
    }
   ],
   "source": [
    "test_tidy.head()"
   ]
  },
  {
   "cell_type": "code",
   "execution_count": 33,
   "metadata": {},
   "outputs": [
    {
     "data": {
      "text/plain": [
       "'men are sleeping '"
      ]
     },
     "execution_count": 33,
     "metadata": {},
     "output_type": "execute_result"
    }
   ],
   "source": [
    "val_tidy['hypothesis_clean'][0]  # choose one to check "
   ]
  },
  {
   "cell_type": "markdown",
   "metadata": {},
   "source": [
    "## Encode Labels"
   ]
  },
  {
   "cell_type": "code",
   "execution_count": 34,
   "metadata": {},
   "outputs": [],
   "source": [
    "\n",
    "\n",
    "le = LabelEncoder()\n",
    "train_tidy['target'] = le.fit_transform(train_tidy.target)\n",
    "val_tidy['target'] = le.fit_transform(val_tidy.target)\n",
    "test_tidy['target'] = le.fit_transform(test_tidy.target)\n",
    "# no need to transform the test catergory as it will be dropped????or needs to be not encoded???\n"
   ]
  },
  {
   "cell_type": "code",
   "execution_count": 35,
   "metadata": {},
   "outputs": [
    {
     "data": {
      "text/html": [
       "<div>\n",
       "<style scoped>\n",
       "    .dataframe tbody tr th:only-of-type {\n",
       "        vertical-align: middle;\n",
       "    }\n",
       "\n",
       "    .dataframe tbody tr th {\n",
       "        vertical-align: top;\n",
       "    }\n",
       "\n",
       "    .dataframe thead th {\n",
       "        text-align: right;\n",
       "    }\n",
       "</style>\n",
       "<table border=\"1\" class=\"dataframe\">\n",
       "  <thead>\n",
       "    <tr style=\"text-align: right;\">\n",
       "      <th></th>\n",
       "      <th>premise</th>\n",
       "      <th>hypothesis</th>\n",
       "      <th>target</th>\n",
       "      <th>premise_clean</th>\n",
       "      <th>hypothesis_clean</th>\n",
       "    </tr>\n",
       "  </thead>\n",
       "  <tbody>\n",
       "    <tr>\n",
       "      <td>0</td>\n",
       "      <td>A man on a motorcycle with a cigarette</td>\n",
       "      <td>The man is smoking while driving.</td>\n",
       "      <td>2</td>\n",
       "      <td>a man on a motorcycle with a cigarette</td>\n",
       "      <td>the man is smoking while driving</td>\n",
       "    </tr>\n",
       "    <tr>\n",
       "      <td>1</td>\n",
       "      <td>Man in green jacket with a bouquet of flowers,...</td>\n",
       "      <td>a man is riding a skateboarx</td>\n",
       "      <td>0</td>\n",
       "      <td>man in green jacket with a bouquet of flowers ...</td>\n",
       "      <td>a man is riding a skateboarx</td>\n",
       "    </tr>\n",
       "    <tr>\n",
       "      <td>2</td>\n",
       "      <td>Two children, an older boy and a younger girl,...</td>\n",
       "      <td>They run down to the beach in their swimming t...</td>\n",
       "      <td>0</td>\n",
       "      <td>two children an older boy and a younger girl a...</td>\n",
       "      <td>they run down to the beach in their swimming t...</td>\n",
       "    </tr>\n",
       "    <tr>\n",
       "      <td>3</td>\n",
       "      <td>A man is in a tree using an axe to shop at a b...</td>\n",
       "      <td>dog chases two cars</td>\n",
       "      <td>0</td>\n",
       "      <td>a man is in a tree using an axe to shop at a b...</td>\n",
       "      <td>dog chases two cars</td>\n",
       "    </tr>\n",
       "    <tr>\n",
       "      <td>4</td>\n",
       "      <td>A male is working in a bakery shop is taking o...</td>\n",
       "      <td>A man is working in a butcher shop.</td>\n",
       "      <td>0</td>\n",
       "      <td>a male is working in a bakery shop is taking o...</td>\n",
       "      <td>a man is working in a butcher shop</td>\n",
       "    </tr>\n",
       "  </tbody>\n",
       "</table>\n",
       "</div>"
      ],
      "text/plain": [
       "                                             premise  \\\n",
       "0             A man on a motorcycle with a cigarette   \n",
       "1  Man in green jacket with a bouquet of flowers,...   \n",
       "2  Two children, an older boy and a younger girl,...   \n",
       "3  A man is in a tree using an axe to shop at a b...   \n",
       "4  A male is working in a bakery shop is taking o...   \n",
       "\n",
       "                                          hypothesis  target  \\\n",
       "0                  The man is smoking while driving.       2   \n",
       "1                       a man is riding a skateboarx       0   \n",
       "2  They run down to the beach in their swimming t...       0   \n",
       "3                                dog chases two cars       0   \n",
       "4                A man is working in a butcher shop.       0   \n",
       "\n",
       "                                       premise_clean  \\\n",
       "0             a man on a motorcycle with a cigarette   \n",
       "1  man in green jacket with a bouquet of flowers ...   \n",
       "2  two children an older boy and a younger girl a...   \n",
       "3  a man is in a tree using an axe to shop at a b...   \n",
       "4  a male is working in a bakery shop is taking o...   \n",
       "\n",
       "                                    hypothesis_clean  \n",
       "0                  the man is smoking while driving   \n",
       "1                       a man is riding a skateboarx  \n",
       "2  they run down to the beach in their swimming t...  \n",
       "3                                dog chases two cars  \n",
       "4                a man is working in a butcher shop   "
      ]
     },
     "execution_count": 35,
     "metadata": {},
     "output_type": "execute_result"
    }
   ],
   "source": [
    "train_tidy.head()"
   ]
  },
  {
   "cell_type": "code",
   "execution_count": 36,
   "metadata": {},
   "outputs": [
    {
     "data": {
      "text/plain": [
       "'the man is smoking while driving '"
      ]
     },
     "execution_count": 36,
     "metadata": {},
     "output_type": "execute_result"
    }
   ],
   "source": [
    "train_tidy['hypothesis_clean'][0]"
   ]
  },
  {
   "cell_type": "code",
   "execution_count": 37,
   "metadata": {},
   "outputs": [
    {
     "data": {
      "text/html": [
       "<div>\n",
       "<style scoped>\n",
       "    .dataframe tbody tr th:only-of-type {\n",
       "        vertical-align: middle;\n",
       "    }\n",
       "\n",
       "    .dataframe tbody tr th {\n",
       "        vertical-align: top;\n",
       "    }\n",
       "\n",
       "    .dataframe thead th {\n",
       "        text-align: right;\n",
       "    }\n",
       "</style>\n",
       "<table border=\"1\" class=\"dataframe\">\n",
       "  <thead>\n",
       "    <tr style=\"text-align: right;\">\n",
       "      <th></th>\n",
       "      <th>premise</th>\n",
       "      <th>hypothesis</th>\n",
       "      <th>target</th>\n",
       "      <th>premise_clean</th>\n",
       "      <th>hypothesis_clean</th>\n",
       "    </tr>\n",
       "  </thead>\n",
       "  <tbody>\n",
       "    <tr>\n",
       "      <td>0</td>\n",
       "      <td>Two men in animal print pajama bottoms sleep o...</td>\n",
       "      <td>Men are sleeping.</td>\n",
       "      <td>1</td>\n",
       "      <td>two men in animal print pajama bottoms sleep o...</td>\n",
       "      <td>men are sleeping</td>\n",
       "    </tr>\n",
       "    <tr>\n",
       "      <td>1</td>\n",
       "      <td>A man is putting on a yellow necktie while ano...</td>\n",
       "      <td>a man puts on a tie</td>\n",
       "      <td>1</td>\n",
       "      <td>a man is putting on a yellow necktie while ano...</td>\n",
       "      <td>a man puts on a tie</td>\n",
       "    </tr>\n",
       "    <tr>\n",
       "      <td>2</td>\n",
       "      <td>Female sitting in a chair in front of a hazy f...</td>\n",
       "      <td>A woman is waiting for someone.</td>\n",
       "      <td>2</td>\n",
       "      <td>female sitting in a chair in front of a hazy f...</td>\n",
       "      <td>a woman is waiting for someone</td>\n",
       "    </tr>\n",
       "    <tr>\n",
       "      <td>3</td>\n",
       "      <td>A blond guitarist, dressed all in black, perfo...</td>\n",
       "      <td>A person is playing the guitar.</td>\n",
       "      <td>1</td>\n",
       "      <td>a blond guitarist dressed all in black performs</td>\n",
       "      <td>a person is playing the guitar</td>\n",
       "    </tr>\n",
       "    <tr>\n",
       "      <td>4</td>\n",
       "      <td>A young boy reaches for and touches the propel...</td>\n",
       "      <td>A young boy and his friend admire the vintage ...</td>\n",
       "      <td>2</td>\n",
       "      <td>a young boy reaches for and touches the propel...</td>\n",
       "      <td>a young boy and his friend admire the vintage ...</td>\n",
       "    </tr>\n",
       "  </tbody>\n",
       "</table>\n",
       "</div>"
      ],
      "text/plain": [
       "                                             premise  \\\n",
       "0  Two men in animal print pajama bottoms sleep o...   \n",
       "1  A man is putting on a yellow necktie while ano...   \n",
       "2  Female sitting in a chair in front of a hazy f...   \n",
       "3  A blond guitarist, dressed all in black, perfo...   \n",
       "4  A young boy reaches for and touches the propel...   \n",
       "\n",
       "                                          hypothesis  target  \\\n",
       "0                                  Men are sleeping.       1   \n",
       "1                                a man puts on a tie       1   \n",
       "2                    A woman is waiting for someone.       2   \n",
       "3                    A person is playing the guitar.       1   \n",
       "4  A young boy and his friend admire the vintage ...       2   \n",
       "\n",
       "                                       premise_clean  \\\n",
       "0  two men in animal print pajama bottoms sleep o...   \n",
       "1  a man is putting on a yellow necktie while ano...   \n",
       "2  female sitting in a chair in front of a hazy f...   \n",
       "3   a blond guitarist dressed all in black performs    \n",
       "4  a young boy reaches for and touches the propel...   \n",
       "\n",
       "                                    hypothesis_clean  \n",
       "0                                  men are sleeping   \n",
       "1                                a man puts on a tie  \n",
       "2                    a woman is waiting for someone   \n",
       "3                    a person is playing the guitar   \n",
       "4  a young boy and his friend admire the vintage ...  "
      ]
     },
     "execution_count": 37,
     "metadata": {},
     "output_type": "execute_result"
    }
   ],
   "source": [
    "val_tidy.head()"
   ]
  },
  {
   "cell_type": "code",
   "execution_count": 38,
   "metadata": {},
   "outputs": [
    {
     "data": {
      "text/plain": [
       "0    2\n",
       "1    0\n",
       "2    0\n",
       "3    0\n",
       "4    0\n",
       "Name: target, dtype: int32"
      ]
     },
     "execution_count": 38,
     "metadata": {},
     "output_type": "execute_result"
    }
   ],
   "source": [
    "#train_tidy['target'].dtypes() #can't do dtypes anymore\n",
    "train_tidy.target.head()  #my output is of type int32, the example is of type int64"
   ]
  },
  {
   "cell_type": "code",
   "execution_count": null,
   "metadata": {},
   "outputs": [],
   "source": []
  },
  {
   "cell_type": "code",
   "execution_count": null,
   "metadata": {},
   "outputs": [],
   "source": []
  },
  {
   "cell_type": "code",
   "execution_count": null,
   "metadata": {},
   "outputs": [],
   "source": []
  }
 ],
 "metadata": {
  "kernelspec": {
   "display_name": "Python 3",
   "language": "python",
   "name": "python3"
  },
  "language_info": {
   "codemirror_mode": {
    "name": "ipython",
    "version": 3
   },
   "file_extension": ".py",
   "mimetype": "text/x-python",
   "name": "python",
   "nbconvert_exporter": "python",
   "pygments_lexer": "ipython3",
   "version": "3.7.4"
  }
 },
 "nbformat": 4,
 "nbformat_minor": 2
}
